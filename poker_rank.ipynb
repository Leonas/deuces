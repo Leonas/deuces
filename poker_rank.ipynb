{
 "cells": [
  {
   "cell_type": "markdown",
   "metadata": {},
   "source": [
    "# Poker Hand Strength"
   ]
  },
  {
   "cell_type": "markdown",
   "metadata": {},
   "source": [
    "- Scale of 1 to 7462\n",
    "- 1 is a Royal Flush and 7462 is unsuited 7-5-4-3-2"
   ]
  },
  {
   "cell_type": "code",
   "execution_count": 2,
   "metadata": {},
   "outputs": [],
   "source": [
    "from deuces import Card, Evaluator, Deck"
   ]
  },
  {
   "cell_type": "markdown",
   "metadata": {},
   "source": [
    "## Create dealt cards"
   ]
  },
  {
   "cell_type": "code",
   "execution_count": 4,
   "metadata": {},
   "outputs": [],
   "source": [
    "board = [\n",
    "    Card.new('2h'),\n",
    "    Card.new('2s'),\n",
    "    Card.new('Jc')\n",
    "]\n",
    "\n",
    "hand = [\n",
    "    Card.new('Qs'),\n",
    "    Card.new('Th')\n",
    "]"
   ]
  },
  {
   "cell_type": "code",
   "execution_count": 5,
   "metadata": {},
   "outputs": [],
   "source": []
  },
  {
   "cell_type": "code",
   "execution_count": 14,
   "metadata": {},
   "outputs": [
    {
     "name": "stdout",
     "output_type": "stream",
     "text": [
      "Rank 6066/7462\n"
     ]
    }
   ],
   "source": [
    "# create an evaluator\n",
    "evaluator = Evaluator()\n",
    "\n",
    "# and rank your hand\n",
    "rank = evaluator.evaluate(board, hand)\n",
    "print(\"Rank \" + str(rank) + \"/7462\")"
   ]
  },
  {
   "cell_type": "code",
   "execution_count": 11,
   "metadata": {},
   "outputs": [],
   "source": [
    "p1_score = evaluator.evaluate(board, player1_hand)\n",
    "p2_score = evaluator.evaluate(board, player2_hand)"
   ]
  },
  {
   "cell_type": "code",
   "execution_count": 12,
   "metadata": {},
   "outputs": [],
   "source": [
    "# bin the scores into classes\n",
    "p1_class = evaluator.get_rank_class(p1_score)\n",
    "p2_class = evaluator.get_rank_class(p2_score)"
   ]
  },
  {
   "cell_type": "code",
   "execution_count": 13,
   "metadata": {},
   "outputs": [
    {
     "name": "stdout",
     "output_type": "stream",
     "text": [
      "Player 1 hand rank = 2836 Two Pair\n",
      "Player 2 hand rank = 2867 Two Pair\n"
     ]
    }
   ],
   "source": [
    "# or get a human-friendly string to describe the score\n",
    "print(f\"Player 1 hand rank = {p1_score} {evaluator.class_to_string(p1_class)}\")\n",
    "print(f\"Player 2 hand rank = {p2_score} {evaluator.class_to_string(p2_class)}\")"
   ]
  },
  {
   "cell_type": "code",
   "execution_count": 14,
   "metadata": {},
   "outputs": [
    {
     "name": "stdout",
     "output_type": "stream",
     "text": [
      "========== FLOP ==========\n",
      "Player 1 hand = Pair, percentage rank among all hands = 0.4453229697132136\n",
      "Player 2 hand = Pair, percentage rank among all hands = 0.44277673545966234\n",
      "Player 1 hand is currently winning.\n",
      "\n",
      "========== TURN ==========\n",
      "Player 1 hand = Two Pair, percentage rank among all hands = 0.6157866523720182\n",
      "Player 2 hand = Two Pair, percentage rank among all hands = 0.6156526400428839\n",
      "Player 1 hand is currently winning.\n",
      "\n",
      "========== RIVER ==========\n",
      "Player 1 hand = Two Pair, percentage rank among all hands = 0.6199410345751809\n",
      "Player 2 hand = Two Pair, percentage rank among all hands = 0.6157866523720182\n",
      "\n",
      "========== HAND OVER ==========\n",
      "Player 1 is the winner with a Two Pair\n",
      "\n"
     ]
    }
   ],
   "source": [
    "# or just a summary of the entire hand\n",
    "hands = [player1_hand, player2_hand]\n",
    "evaluator.hand_summary(board, hands)"
   ]
  },
  {
   "cell_type": "code",
   "execution_count": null,
   "metadata": {},
   "outputs": [],
   "source": []
  }
 ],
 "metadata": {
  "kernelspec": {
   "display_name": "Python 3",
   "language": "python",
   "name": "python3"
  },
  "language_info": {
   "codemirror_mode": {
    "name": "ipython",
    "version": 3
   },
   "file_extension": ".py",
   "mimetype": "text/x-python",
   "name": "python",
   "nbconvert_exporter": "python",
   "pygments_lexer": "ipython3",
   "version": "3.6.5"
  }
 },
 "nbformat": 4,
 "nbformat_minor": 2
}
