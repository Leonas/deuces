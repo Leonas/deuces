{
 "cells": [
  {
   "cell_type": "code",
   "execution_count": 9,
   "metadata": {},
   "outputs": [],
   "source": [
    "from deuces import Card, Evaluator, Deck"
   ]
  },
  {
   "cell_type": "markdown",
   "metadata": {},
   "source": [
    "## Deal a new hand"
   ]
  },
  {
   "cell_type": "code",
   "execution_count": 44,
   "metadata": {},
   "outputs": [
    {
     "name": "stdout",
     "output_type": "stream",
     "text": [
      "Board:\n",
      " [7♠],[K♣],[5♥],[8♠],[4♠] \n",
      "\n",
      "Player1: 4932 0.3390511927097293 Pair\n",
      " [J♣],[7♥] \n",
      "\n",
      "Player2: 2021 0.7291610828196193 Three of a Kind\n",
      " [8♣],[8♥] \n",
      "\n",
      "Player3: 6245 0.16309300455641917 High Card\n",
      " [J♠],[A♥] \n",
      "\n",
      "Player4: 6904 0.07477887965692842 High Card\n",
      " [T♥],[3♥] \n",
      "========== FLOP ==========\n",
      "Player 1 hand = Pair, percentage rank among all hands = 0.3387831680514607\n",
      "Player 2 hand = Pair, percentage rank among all hands = 0.36585365853658536\n",
      "Player 3 hand = High Card, percentage rank among all hands = 0.16215491825247919\n",
      "Player 4 hand = High Card, percentage rank among all hands = 0.07223264540337715\n",
      "Player 2 hand is currently winning.\n",
      "\n",
      "========== TURN ==========\n",
      "Player 1 hand = Pair, percentage rank among all hands = 0.3390511927097293\n",
      "Player 2 hand = Three of a Kind, percentage rank among all hands = 0.7291610828196193\n",
      "Player 3 hand = High Card, percentage rank among all hands = 0.16309300455641917\n",
      "Player 4 hand = High Card, percentage rank among all hands = 0.07477887965692842\n",
      "Player 2 hand is currently winning.\n",
      "\n",
      "========== RIVER ==========\n",
      "Player 1 hand = Pair, percentage rank among all hands = 0.3390511927097293\n",
      "Player 2 hand = Three of a Kind, percentage rank among all hands = 0.7291610828196193\n",
      "Player 3 hand = High Card, percentage rank among all hands = 0.16309300455641917\n",
      "Player 4 hand = High Card, percentage rank among all hands = 0.07477887965692842\n",
      "\n",
      "========== HAND OVER ==========\n",
      "Player 2 is the winner with a Three of a Kind\n",
      "\n"
     ]
    }
   ],
   "source": [
    "deck = Deck()\n",
    "board = deck.draw(5)\n",
    "player1_hand = deck.draw(2)\n",
    "player2_hand = deck.draw(2)\n",
    "player3_hand = deck.draw(2)\n",
    "player4_hand = deck.draw(2)\n",
    "\n",
    "evaluator = Evaluator()\n",
    "p1_score = evaluator.evaluate(board, player1_hand)\n",
    "p2_score = evaluator.evaluate(board, player2_hand)\n",
    "p3_score = evaluator.evaluate(board, player3_hand)\n",
    "p4_score = evaluator.evaluate(board, player4_hand)\n",
    "\n",
    "# bin the scores into classes\n",
    "p1_class = evaluator.get_rank_class(p1_score)\n",
    "p2_class = evaluator.get_rank_class(p2_score)\n",
    "p3_class = evaluator.get_rank_class(p3_score)\n",
    "p4_class = evaluator.get_rank_class(p4_score)\n",
    "\n",
    "print(\"Board:\")\n",
    "Card.print_pretty_cards(board)\n",
    "print()\n",
    "\n",
    "print(f\"Player1: {p1_score} {1-p1_score/7462} {evaluator.class_to_string(p1_class)}\")\n",
    "Card.print_pretty_cards(player1_hand)\n",
    "print()\n",
    "\n",
    "print(f\"Player2: {p2_score} {1-p2_score/7462} {evaluator.class_to_string(p2_class)}\")\n",
    "Card.print_pretty_cards(player2_hand)\n",
    "print()\n",
    "\n",
    "print(f\"Player3: {p3_score} {1-p3_score/7462} {evaluator.class_to_string(p3_class)}\")\n",
    "Card.print_pretty_cards(player3_hand)\n",
    "print()\n",
    "\n",
    "print(f\"Player4: {p4_score} {1-p4_score/7462} {evaluator.class_to_string(p4_class)}\")\n",
    "Card.print_pretty_cards(player4_hand)\n",
    "\n",
    "# Summary of the game\n",
    "hands = [player1_hand, player2_hand, player3_hand, player4_hand]\n",
    "evaluator.hand_summary(board, hands)"
   ]
  },
  {
   "cell_type": "code",
   "execution_count": null,
   "metadata": {},
   "outputs": [],
   "source": []
  },
  {
   "cell_type": "code",
   "execution_count": null,
   "metadata": {},
   "outputs": [],
   "source": []
  }
 ],
 "metadata": {
  "kernelspec": {
   "display_name": "Python 3",
   "language": "python",
   "name": "python3"
  },
  "language_info": {
   "codemirror_mode": {
    "name": "ipython",
    "version": 3
   },
   "file_extension": ".py",
   "mimetype": "text/x-python",
   "name": "python",
   "nbconvert_exporter": "python",
   "pygments_lexer": "ipython3",
   "version": "3.6.5"
  }
 },
 "nbformat": 4,
 "nbformat_minor": 2
}
